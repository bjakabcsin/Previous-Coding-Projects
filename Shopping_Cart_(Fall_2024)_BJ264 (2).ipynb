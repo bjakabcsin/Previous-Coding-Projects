{
  "cells": [
    {
      "cell_type": "markdown",
      "metadata": {
        "id": "4Srdlse6bI5q"
      },
      "source": [
        "Develop a Python application to facilitate a grocery store's checkout process."
      ]
    },
    {
      "cell_type": "markdown",
      "metadata": {
        "id": "HCMLilbO4rtr"
      },
      "source": [
        "## Business Prompt"
      ]
    },
    {
      "cell_type": "markdown",
      "metadata": {
        "id": "dqaJ_O5H4wRC"
      },
      "source": [
        "\n",
        "Your local corner grocery store has hired you as a technology consultant to help modernize their checkout system.\n",
        "\n",
        "**Current State (As Is) Process**\n",
        "\n",
        "Currently, when managing inventory, store employees affix a price tag sticker on each grocery item in stock. And when a customer visits the checkout counter with their selected items, a checkout clerk uses a calculator to add product prices, calculate tax, and calculate the total amount due. But this process takes more time than necessary, and is prone to manual error.\n",
        "\n",
        "**Future State (To Be) Process**\n",
        "\n",
        "Instead, the store owner describes a desired checkout process which involves the checkout clerk scanning each product's barcode to automatically lookup prices, perform tax and total calculations, and print a customer receipt. To facilitate this process, the store owner has authorized the purchase of a few inexpensive [barcode scanners](https://www.amazon.com/UNIDEEPLY-Barcode-Scanner-Handheld-Scanning/dp/B07GYLKX4J/ref=sr_1_1_sspa), as well as checkout computers capable of running Python applications.\n",
        "\n",
        "The store owner says it would be \"acceptable but not preferable\" to manage the inventory of products via the application's source code, that it would be \"better\" to manage the inventory of products via a CSV file, and that it would be \"ideal\" to be able to manage the inventory of products via a centralized Google Sheet spreadsheet document.\n",
        "\n",
        "The store owner also says it would be \"nice to have\" a feature which writes the receipt to a text file which can be printed, and would be \"nice to have\" a feature which prompts the checkout clerk to input the customer's email address in order to send them a receipt via email."
      ]
    },
    {
      "cell_type": "markdown",
      "metadata": {
        "id": "tnj6eer-RnND"
      },
      "source": [
        "## Requirements\n",
        "\n"
      ]
    },
    {
      "cell_type": "markdown",
      "metadata": {
        "id": "9GpF6Z2OrmkR"
      },
      "source": [
        "### Basic Requirements"
      ]
    },
    {
      "cell_type": "markdown",
      "metadata": {
        "id": "aLxBOtV_Cimv"
      },
      "source": [
        "\n",
        "Write a Python program that asks the user to input one or more product identifiers, then looks up the prices for each, then prints an itemized customer receipt including the total amount owed.\n",
        "\n",
        "**Inventory Options:**\n",
        "\n",
        "The program should use just one of the provided datastores to represent the store owner's inventory of products and prices (see \"Inventory Options\" in the \"Scratch Work\" section at bottom for more info):\n",
        "\n",
        "  + A) For the hard-coded inventory, use the provided `basic_products` list.\n",
        "  + B) For the CSV file, use this hosted [\"products-default.csv\" file](https://raw.githubusercontent.com/prof-rossetti/intro-to-python/master/data/products-default.csv) instead.\n",
        "  + C) For the Google Sheets datastore, use the [\"products-default\" sheet](https://docs.google.com/spreadsheets/d/1ItN7Cc2Yn4K90cMIsxi2P045Gzw0y2JHB_EkV4mXXpI/edit?gid=837633200#gid=837633200) instead. If using a barcode scanner, optionally consider adding your own products to the \"products-custom\" sheet, and using the \"products-custom\" sheet instead.\n",
        "\n",
        "\n",
        "**Checkout Process:**\n",
        "\n",
        "The program should prompt the checkout clerk to input (or scan) the identifier of each shopping cart item, one at a time. It should also let the user know how to stop the process, by inputting the word \"DONE\" instead.\n",
        "\n",
        "**Validations:**\n",
        "\n",
        "When the clerk inputs a product identifier, the program should validate it, displaying a helpful message like \"Hey, are you sure that product identifier is correct? Please try again!\" if there are no products matching the given identifier.\n",
        "\n",
        "**\"Done\" Signal:**\n",
        "\n",
        "At any time the clerk should be able to indicate there are no more shopping cart items by inputting the word \"DONE\". Before asking for any identifiers, the program should provide clear instructions to the user about how to use the \"DONE\" keyword.\n",
        "\n",
        "**Receipt Display:**\n",
        "\n",
        "After the clerk indicates there are no more items, the program should print a custom receipt on the screen. The receipt should include the following components:\n",
        "\n",
        "  + A grocery store name of your choice (can be fictitious).\n",
        "  + A grocery store phone number and/or website URL and/or address of choice (can be fictitious).\n",
        "  + The date and time of the beginning of the checkout process, formatted in a human-friendly way (e.g. `2020-02-07 03:54 PM`). This might by default be displayed in UTC timezone, however we would ideally like the timestamp to be displayed in US Eastern timezone instead.\n",
        "  + The name and price of each shopping cart item, where the price is formatted as US dollars and cents (e.g. `$3.50`, etc.)\n",
        "  + The subtotal cost of all shopping cart items, calculated as the sum of all selected product prices, formatted as US dollars and cents (e.g. `$19.47`).\n",
        "  + The amount of tax owed (e.g. `$1.70`), calculated by multiplying the total cost by a New York City sales tax rate of 8.75% (for the purposes of this project, groceries are not exempt from sales tax).\n",
        "  + The total amount owed, formatted as US dollars and cents (e.g. `$21.17`), calculated by adding together the subtotal plus the amount of tax owed.\n",
        "  + A friendly message thanking the customer and/or encouraging the customer to shop again\n",
        "\n",
        "The program should be able to process multiple shopping cart items of the same kind, but need not display any groupings or aggregations of those items (although it may optionally do so).\n",
        "\n"
      ]
    },
    {
      "cell_type": "markdown",
      "metadata": {
        "id": "w109Lk3SCmNw"
      },
      "source": [
        "#### Example Output\n"
      ]
    },
    {
      "cell_type": "markdown",
      "metadata": {
        "id": "o9XEJ2RTClB8"
      },
      "source": [
        "\n",
        "\n",
        "``` sh\n",
        "Please input a product identifier: 1\n",
        "Please input a product identifier: 2\n",
        "Please input a product identifier: 3\n",
        "Please input a product identifier: 2\n",
        "Please input a product identifier: 1\n",
        "Please input a product identifier: DONE\n",
        "\n",
        "#> ---------------------------------\n",
        "#> GREEN FOODS GROCERY\n",
        "#> WWW.GREEN-FOODS-GROCERY.COM\n",
        "#> ---------------------------------\n",
        "#> CHECKOUT AT: 2020-02-07 03:54 PM\n",
        "#> ---------------------------------\n",
        "#> SELECTED PRODUCTS:\n",
        "#>  ... Chocolate Sandwich Cookies ($3.50)\n",
        "#>  ... All-Seasons Salt ($4.99)\n",
        "#>  ... Robust Golden Unsweetened Oolong Tea ($2.49)\n",
        "#>  ... All-Seasons Salt ($4.99)\n",
        "#>  ... Chocolate Sandwich Cookies ($3.50)\n",
        "#> ---------------------------------\n",
        "#> SUBTOTAL: $19.47\n",
        "#> TAX: $1.70\n",
        "#> TOTAL: $21.17\n",
        "#> ---------------------------------\n",
        "#> THANKS, SEE YOU AGAIN SOON!\n",
        "#> ---------------------------------\n",
        "\n",
        "```"
      ]
    },
    {
      "cell_type": "markdown",
      "metadata": {
        "id": "sToAMIV9EnJZ"
      },
      "source": [
        "### Optional Further Exploration\n",
        "\n",
        "\n"
      ]
    },
    {
      "cell_type": "markdown",
      "metadata": {
        "id": "WUNpEywROMRY"
      },
      "source": [
        "\n",
        "\n",
        "**Writing Receipts to File**\n",
        "\n",
        "In addition to displaying a receipt at the end of the checkout process, the program should write the receipt information into a new text file saved to the notebook's filesystem. After downloading the file, the clerk's printer-connected computer should be able to actually print a paper receipt from the information contained in this file.\n",
        "\n",
        "Each text file should be named according to the date and time the checkout process started (e.g. \"receipt-2024-10-03-15-45-00.txt\", for October 3rd 2024 at 3:45pm, where the numbers represent the year, month, day, 24-hour-style hour, minute, and second, respectively).\n",
        "\n",
        "> HINT: consult the notes on [file management](https://github.com/prof-rossetti/intro-to-python/blob/main/notes/python/file-management.md) for examples of how to write to file in Python\n",
        "\n",
        "**Sending Receipts via Email**\n",
        "\n",
        "\n",
        "In addition to displaying a receipt at the end of the checkout process, the program should prompt the checkout clerk or the customer to indicate whether the customer would like to receive the receipt by email. And if so, it should prompt the checkout clerk or the customer to input the customer's email address, and then it should send the receipt information to the customer by email. The clerk's network-connected computer should be able to send these emails.\n",
        "\n",
        "At the very least, the email should display the checkout timestamp and the total price. But ideally it should contain all the receipt information described in the basic requirements.\n",
        "\n",
        "\n",
        "**Displaying Product Images**\n",
        "\n",
        "Only if using the spreadsheet inventory option which contains product image URLs, ideally display product images in the displayed and/or emailed receipt.\n",
        "\n",
        "Use the same height for each image so they look  somewhat uniform.\n"
      ]
    },
    {
      "cell_type": "markdown",
      "metadata": {
        "id": "GWj6HNQQSzZA"
      },
      "source": [
        "## Evaluation\n"
      ]
    },
    {
      "cell_type": "markdown",
      "metadata": {
        "id": "ME5s2Ek6S1Dd"
      },
      "source": [
        "Project submissions will be evaluated according to the requirements set forth above, as summarized by the rubric below:\n",
        "\n",
        "\n",
        "\n",
        "Category | Requirement | Weight\n",
        "--- | --- | ---\n",
        "Instructions | Provides setup instructions via text cell (as necessary, if project requires additional setup, such as obtaining API keys, setting notebook secrets, etc.).  | 10%\n",
        "Security | Protects secret credentials (as necessary, for example if using secret credentials to send emails). | 10%\n",
        "Info Inputs | Reads products data from one of the provided inventory options (partial credit for hard-coded inventory, majority partial credit for CSV file inventory, full credit for spreadsheet inventory). | 15%\n",
        "Info Inputs | Captures / scans product identifiers. | 10%\n",
        "Info Inputs | Handles invalid inputs (like \"OOPS\" and/or out of range identifiers), fails gracefully on invalid product lookups. Does not try to process invalid inputs. Avoids a red / crashed cell. | 12.5%\n",
        "Info Inputs | Instructs the user about, and handles, the \"DONE\" signal. | 10%\n",
        "Info Outputs (Receipt) | Displays store info. | 5%\n",
        "Info Outputs (Receipt) | Displays checkout date and time, in a human-friendly format. | 7.5%\n",
        "Info Outputs (Receipt) | Displays names and prices of all scanned products, with prices formatted as USD.  | 10%\n",
        "Info Outputs (Receipt) | Displays accurate tax and totals, formatted as USD. | 10%\n",
        "\n",
        "Category (BONUS) | Requirement | Weight\n",
        "--- | --- | ---\n",
        "Info Outputs (Receipt) | Displays product images, as applicable (BONUS). | +5%\n",
        "Info Outputs (Receipt) | Writes all receipt information to text file (BONUS). | +5%\n",
        "Info Outputs (Receipt) | Sends all receipt information via email (BONUS). | +10%\n",
        "\n",
        "\n",
        "\n",
        "\n",
        "\n",
        "\n",
        "This rubric is tentative, and may be subject to slight adjustments during the grading process.\n",
        "\n",
        "If experiencing execution error(s) while evaluating the application's required functionality, evaluators are advised to reduce the project's grade by between 4% and 25%, depending on the circumstances and severity of the error(s).\n",
        "\n",
        "\n",
        "\n",
        "\n",
        "\n",
        "\n"
      ]
    },
    {
      "cell_type": "markdown",
      "metadata": {
        "id": "dPy56DRdnjt7"
      },
      "source": [
        "## Setup"
      ]
    },
    {
      "cell_type": "markdown",
      "metadata": {
        "id": "6zHBXQQ2nktf"
      },
      "source": [
        "If there are any setup instructions required to run your final solution, provide all the necessary instructions using text and/or code cells in this \"Setup\" section. This includes instructions about how to sign up for email-sending services, instructions on setting notebook secrets etc.\n",
        "\n"
      ]
    },
    {
      "cell_type": "markdown",
      "metadata": {
        "id": "802N_q33nz9N"
      },
      "source": [
        "Note: When the program is running it may look odd but it is just because it has auto scrolled all the way to the right so if you just scroll back to the left it should look normal again"
      ]
    },
    {
      "cell_type": "markdown",
      "metadata": {
        "id": "SrEBcORVnz2R"
      },
      "source": [
        "Note: This notebook will use the secrets SENDGRID_API_KEY and SENDGRID_SENDER_ADDRESS which are already enabled for this workbook. Make sure to run the first cell of the solution before the second in order to make sure that sendgrid is installed."
      ]
    },
    {
      "cell_type": "markdown",
      "metadata": {
        "id": "QYgEQO8SnzuF"
      },
      "source": [
        "Note: Follow insturctions as prompted by the program"
      ]
    },
    {
      "cell_type": "code",
      "execution_count": null,
      "metadata": {
        "id": "Wch43rdUoByE"
      },
      "outputs": [],
      "source": []
    },
    {
      "cell_type": "code",
      "execution_count": null,
      "metadata": {
        "id": "RTNrT2i7oBq1"
      },
      "outputs": [],
      "source": []
    },
    {
      "cell_type": "code",
      "execution_count": null,
      "metadata": {
        "id": "z5ToZERnoBnu"
      },
      "outputs": [],
      "source": []
    },
    {
      "cell_type": "markdown",
      "metadata": {
        "id": "PaHSX83Qrx8j"
      },
      "source": [
        "# Solution"
      ]
    },
    {
      "cell_type": "markdown",
      "metadata": {
        "id": "LLtxUAzrzfh_"
      },
      "source": [
        "Besides the \"Setup\" section, this is the only other section that will be evaluated. Make sure the final working version of the application's code is completely contained within these two sections."
      ]
    },
    {
      "cell_type": "code",
      "execution_count": null,
      "metadata": {
        "id": "TAWlkMTir0AR"
      },
      "outputs": [],
      "source": [
        "# todo: write python code here\n",
        "%%capture\n",
        "!pip install sendgrid==6.5.0"
      ]
    },
    {
      "cell_type": "code",
      "execution_count": null,
      "metadata": {
        "colab": {
          "background_save": true,
          "base_uri": "https://localhost:8080/"
        },
        "id": "UXBsJhtArz9h",
        "outputId": "9d59adc2-9b40-47ef-8475-4e156503d8bc"
      },
      "outputs": [
        {
          "name": "stdout",
          "output_type": "stream",
          "text": [
            "--------------------\n",
            "Ben's Grocery\n",
            "734-657-7000\n",
            "--------------------\n",
            "Checkout at:  Sun 20 Oct 2024, 10:51PM\n",
            "--------------------\n",
            "Selected Products: \n"
          ]
        }
      ],
      "source": [
        "from google.colab import auth\n",
        "auth.authenticate_user()\n",
        "\n",
        "from google.auth import default\n",
        "creds, _ = default()\n",
        "\n",
        "import gspread\n",
        "client = gspread.authorize(creds)\n",
        "\n",
        "doc = client.open_by_url(\"https://docs.google.com/spreadsheets/d/1ItN7Cc2Yn4K90cMIsxi2P045Gzw0y2JHB_EkV4mXXpI/edit?gid=837633200#gid=837633200\")\n",
        "sheet = doc.worksheet(\"products-default\")\n",
        "records = sheet.get_all_records()\n",
        "\n",
        "from pandas import DataFrame\n",
        "\n",
        "df = DataFrame(records)\n",
        "products = df.to_dict(\"records\")\n",
        "\n",
        "\n",
        "from datetime import datetime\n",
        "import pytz\n",
        "time_zone = pytz.timezone('America/Detroit')\n",
        "now = datetime.now(time_zone)\n",
        "now = now.strftime('%a %d %b %Y, %I:%M%p')\n",
        "\n",
        "from IPython.display import Image, display\n",
        "\n",
        "print(\"--------------------\")\n",
        "print(\"Ben's Grocery\")\n",
        "print(\"734-657-7000\")\n",
        "print(\"--------------------\")\n",
        "print(\"Checkout at: \", now)\n",
        "print(\"--------------------\")\n",
        "print(\"Selected Products: \")\n",
        "\n",
        "option_numbers = []\n",
        "item_name = []\n",
        "item_price = []\n",
        "\n",
        "selection = input(\"Please input a product identifier: \")\n",
        "selection = selection.lower()\n",
        "sub_total = 0\n",
        "tax_owed = 0\n",
        "total = 0\n",
        "\n",
        "for item in products:\n",
        "    option_numbers.append(str(item[\"id\"]))\n",
        "\n",
        "file_name = f\"receipt-{now}.txt\"\n",
        "\n",
        "with open(file_name, \"w\") as file:\n",
        "    file.write(\"Ben's Grocery\")\n",
        "    file.write(\"\\n\")\n",
        "    file.write(\"734-657-7000\")\n",
        "    file.write(\"\\n\")\n",
        "    file.write(\"\\n\")\n",
        "    file.write(\"Selected Products: \")\n",
        "\n",
        "    while selection != \"done\" :\n",
        "        if selection in option_numbers:\n",
        "            name = products[int(selection)-1][\"name\"]\n",
        "            price = products[int(selection)-1][\"price\"]\n",
        "            print(\"You've selected: \", name, f\"(${price:.2f})\")\n",
        "            image_url = products[int(selection)-1][\"img_url\"]\n",
        "            display(Image(url=image_url, height=100))\n",
        "            sub_total += float(price)\n",
        "            item_name.append(name)\n",
        "            item_price.append(f\"${price:.2f}\")\n",
        "            file.write(\"\\n\")\n",
        "            file.write(name)\n",
        "            file.write(\"  \")\n",
        "            text_price = f\"${price:.2f}\"\n",
        "            text_price = str(text_price)\n",
        "            file.write(text_price)\n",
        "            print(\"--------------------\")\n",
        "            selection = input(\"Please input a product identifier: \")\n",
        "            selection = selection.lower()\n",
        "        else:\n",
        "            print(\"Please select a valid item ID or say Done\")\n",
        "            print(\"--------------------\")\n",
        "            selection = input(\"Please input a product identifier: \")\n",
        "            selection = selection.lower()\n",
        "    tax_owed = sub_total * .0875\n",
        "    total = tax_owed + sub_total\n",
        "    file.write(\"\\n\")\n",
        "    file.write(\"\\n\")\n",
        "    file.write(\"Subtotal\")\n",
        "    file.write(\"  \")\n",
        "    text_subtotal = f\"${sub_total:.2f}\"\n",
        "    text_subtotal = str(text_subtotal)\n",
        "    file.write(text_subtotal)\n",
        "    file.write(\"\\n\")\n",
        "    file.write(\"Tax\")\n",
        "    file.write(\"  \")\n",
        "    text_tax = f\"${tax_owed:.2f}\"\n",
        "    text_tax = str(text_tax)\n",
        "    file.write(text_tax)\n",
        "    file.write(\"\\n\")\n",
        "    file.write(\"Total\")\n",
        "    file.write(\"  \")\n",
        "    text_total = f\"${total:.2f}\"\n",
        "    text_total = str(text_total)\n",
        "    file.write(text_total)\n",
        "\n",
        "print(\"--------------------\")\n",
        "print(\"Thank You!\")\n",
        "print(\"--------------------\")\n",
        "print(\"Subtotal: \", f\"${sub_total:.2f}\")\n",
        "print(\"Tax: \", f\"${tax_owed:.2f}\")\n",
        "print(\"Total: \", f\"${total:.2f}\")\n",
        "print(\"--------------------\")\n",
        "\n",
        "from google.colab import userdata\n",
        "\n",
        "SENDGRID_API_KEY = userdata.get(\"SENDGRID_API_KEY\")\n",
        "SENDGRID_SENDER_ADDRESS = userdata.get(\"SENDGRID_SENDER_ADDRESS\")\n",
        "\n",
        "\n",
        "from sendgrid import SendGridAPIClient\n",
        "from sendgrid.helpers.mail import Mail\n",
        "\n",
        "\n",
        "emailed_receipt = input(\"Would you like and emailed receipt of your purchase (yes/no): \")\n",
        "emailed_recepit = emailed_receipt.lower()\n",
        "\n",
        "import requests\n",
        "\n",
        "def send_email_with_sendgrid(recipient_address,\n",
        "                             subject=\"Ben's Groocery Receipt\" + \" \" + now,\n",
        "                             html_content=\"<p>Hello World</p>\"\n",
        "                            ):\n",
        "    \"\"\"Sends an email to the given recipient address.\n",
        "\n",
        "        Params:\n",
        "            recipient_address (str): The email address of the recipient.\n",
        "\n",
        "            subject (str): The subject of the email.\n",
        "\n",
        "            html_content (str): The content of the email. Can pass a string formatted as HTML.\n",
        "    \"\"\"\n",
        "\n",
        "\n",
        "    client = SendGridAPIClient(SENDGRID_API_KEY)\n",
        "\n",
        "\n",
        "    # always send from the sender, but allow us to customize the recipient by passing it in to the function as a parameter\n",
        "    message = Mail(from_email=SENDGRID_SENDER_ADDRESS, to_emails=recipient_address, subject=subject, html_content=html_content)\n",
        "\n",
        "    try:\n",
        "        response = client.send(message)\n",
        "\n",
        "        #print(\"RESPONSE:\", type(response)) #> <class 'python_http_client.client.Response'>\n",
        "        #print(response.status_code) #> 202 indicates SUCCESS\n",
        "        #print(response.body)\n",
        "        #print(response.headers)\n",
        "        #print(\"Email sent successfully!\")\n",
        "    except Exception as err:\n",
        "        print(f\"Error sending email:\")\n",
        "        #print(type(err))\n",
        "        #print(err)\n",
        "\n",
        "\n",
        "if emailed_receipt == \"yes\":\n",
        "    recipient_address = input(\"What is your full email address: \")\n",
        "    send_email_with_sendgrid(recipient_address, html_content = \"\"\"\n",
        "                    <p>\n",
        "                    The time of your purchase is \"\"\" f\"{now}\" \"\"\"\n",
        "                    </p>\n",
        "                    <p>\n",
        "                    Your items are \"\"\" f\"{item_name}\" \"\"\"\n",
        "                    </p>\n",
        "                    <p>\n",
        "                    Their prices are \"\"\" f\"{item_price}\" \"\"\"\n",
        "                    </p>\n",
        "                    <p>\n",
        "                        Your subtotal is \"\"\" f\"${sub_total:.2f}\" \"\"\"\n",
        "                    </p>\n",
        "                    <p>\n",
        "                        The tax is \"\"\" f\"${tax_owed:.2f}\" \"\"\"\n",
        "                    </p>\n",
        "                    <p>\n",
        "                        The total for your purchase is \"\"\" f\"${total:.2f}\" \"\"\"\n",
        "                    </p>\n",
        "\n",
        "                    \"\"\")"
      ]
    },
    {
      "cell_type": "code",
      "execution_count": null,
      "metadata": {
        "id": "01FeHZF9rz68"
      },
      "outputs": [],
      "source": []
    },
    {
      "cell_type": "code",
      "execution_count": null,
      "metadata": {
        "id": "XJiPchgDrz4c"
      },
      "outputs": [],
      "source": []
    },
    {
      "cell_type": "code",
      "execution_count": null,
      "metadata": {
        "id": "Mq1p9Jhhrz1w"
      },
      "outputs": [],
      "source": []
    },
    {
      "cell_type": "code",
      "execution_count": null,
      "metadata": {
        "id": "ixVtLtNSzfOY"
      },
      "outputs": [],
      "source": []
    },
    {
      "cell_type": "code",
      "execution_count": null,
      "metadata": {
        "id": "UOcGIJSNzfLz"
      },
      "outputs": [],
      "source": []
    },
    {
      "cell_type": "code",
      "execution_count": null,
      "metadata": {
        "id": "NfFrgG7kzfJP"
      },
      "outputs": [],
      "source": []
    },
    {
      "cell_type": "code",
      "execution_count": null,
      "metadata": {
        "id": "Iy1r9q3VzsLb"
      },
      "outputs": [],
      "source": []
    },
    {
      "cell_type": "code",
      "execution_count": null,
      "metadata": {
        "id": "Yg83NEJ1zsIw"
      },
      "outputs": [],
      "source": []
    },
    {
      "cell_type": "code",
      "execution_count": null,
      "metadata": {
        "id": "1H9B_Q_5zsGA"
      },
      "outputs": [],
      "source": []
    },
    {
      "cell_type": "markdown",
      "metadata": {
        "id": "ekIj0aU66R9M"
      },
      "source": [
        "# Scratch Work"
      ]
    },
    {
      "cell_type": "markdown",
      "metadata": {
        "id": "9GRq-wa3rRzc"
      },
      "source": [
        "\n",
        "Optionally use these cells as scratch-work to practice various techniques.\n",
        "\n",
        "> NOTE: These practice cells won't be evaluated. So make sure that your final work ends up in the \"Solution\" section above.\n",
        "\n",
        "\n",
        "\n"
      ]
    },
    {
      "cell_type": "markdown",
      "metadata": {
        "id": "E1afjEIqik5S"
      },
      "source": [
        "## Inventory Options"
      ]
    },
    {
      "cell_type": "markdown",
      "metadata": {
        "id": "oIFB3vJteuLE"
      },
      "source": [
        "### Hard-coded"
      ]
    },
    {
      "cell_type": "code",
      "execution_count": null,
      "metadata": {
        "id": "WARR5j5LrziR"
      },
      "outputs": [],
      "source": [
        "# this is Inventory Option A (but you can use a different option if you'd like)\n",
        "\n",
        "basic_products = [\n",
        "    {\"id\":1, \"name\": \"Chocolate Sandwich Cookies\", \"department\": \"snacks\", \"aisle\": \"cookies cakes\", \"price\": 3.50},\n",
        "    {\"id\":2, \"name\": \"All-Seasons Salt\", \"department\": \"pantry\", \"aisle\": \"spices seasonings\", \"price\": 4.99},\n",
        "    {\"id\":3, \"name\": \"Robust Golden Unsweetened Oolong Tea\", \"department\": \"beverages\", \"aisle\": \"tea\", \"price\": 2.49},\n",
        "    {\"id\":4, \"name\": \"Smart Ones Classic Favorites Mini Rigatoni With Vodka Cream Sauce\", \"department\": \"frozen\", \"aisle\": \"frozen meals\", \"price\": 6.99},\n",
        "    {\"id\":5, \"name\": \"Green Chile Anytime Sauce\", \"department\": \"pantry\", \"aisle\": \"marinades meat preparation\", \"price\": 7.99},\n",
        "    {\"id\":6, \"name\": \"Dry Nose Oil\", \"department\": \"personal care\", \"aisle\": \"cold flu allergy\", \"price\": 21.99},\n",
        "    {\"id\":7, \"name\": \"Pure Coconut Water With Orange\", \"department\": \"beverages\", \"aisle\": \"juice nectars\", \"price\": 3.50},\n",
        "    {\"id\":8, \"name\": \"Cut Russet Potatoes Steam N' Mash\", \"department\": \"frozen\", \"aisle\": \"frozen produce\", \"price\": 4.25},\n",
        "    {\"id\":9, \"name\": \"Light Strawberry Blueberry Yogurt\", \"department\": \"dairy eggs\", \"aisle\": \"yogurt\", \"price\": 6.50},\n",
        "    {\"id\":10, \"name\": \"Sparkling Orange Juice & Prickly Pear Beverage\", \"department\": \"beverages\", \"aisle\": \"water seltzer sparkling water\", \"price\": 2.99},\n",
        "    {\"id\":11, \"name\": \"Peach Mango Juice\", \"department\": \"beverages\", \"aisle\": \"refrigerated\", \"price\": 1.99},\n",
        "    {\"id\":12, \"name\": \"Chocolate Fudge Layer Cake\", \"department\": \"frozen\", \"aisle\": \"frozen dessert\", \"price\": 18.50},\n",
        "    {\"id\":13, \"name\": \"Saline Nasal Mist\", \"department\": \"personal care\", \"aisle\": \"cold flu allergy\", \"price\": 16.00},\n",
        "    {\"id\":14, \"name\": \"Fresh Scent Dishwasher Cleaner\", \"department\": \"household\", \"aisle\": \"dish detergents\", \"price\": 4.99},\n",
        "    {\"id\":15, \"name\": \"Overnight Diapers Size 6\", \"department\": \"babies\", \"aisle\": \"diapers wipes\", \"price\": 25.50},\n",
        "    {\"id\":16, \"name\": \"Mint Chocolate Flavored Syrup\", \"department\": \"snacks\", \"aisle\": \"ice cream toppings\", \"price\": 4.50},\n",
        "    {\"id\":17, \"name\": \"Rendered Duck Fat\", \"department\": \"meat seafood\", \"aisle\": \"poultry counter\", \"price\": 9.99},\n",
        "    {\"id\":18, \"name\": \"Pizza for One Suprema Frozen Pizza\", \"department\": \"frozen\", \"aisle\": \"frozen pizza\", \"price\": 12.50},\n",
        "    {\"id\":19, \"name\": \"Gluten Free Quinoa Three Cheese & Mushroom Blend\", \"department\": \"dry goods pasta\", \"aisle\": \"grains rice dried goods\", \"price\": 3.99},\n",
        "    {\"id\":20, \"name\": \"Pomegranate Cranberry & Aloe Vera Enrich Drink\", \"department\": \"beverages\", \"aisle\": \"juice nectars\", \"price\": 4.25}\n",
        "] # based on data from Instacart: https://www.instacart.com/datasets/grocery-shopping-2017\n",
        "\n",
        "print(type(basic_products))\n",
        "print(len(basic_products))\n",
        "print(basic_products)"
      ]
    },
    {
      "cell_type": "code",
      "execution_count": null,
      "metadata": {
        "id": "SEsr5O1K8L6t"
      },
      "outputs": [],
      "source": []
    },
    {
      "cell_type": "code",
      "execution_count": null,
      "metadata": {
        "id": "s3Iamwzo8L4e"
      },
      "outputs": [],
      "source": []
    },
    {
      "cell_type": "markdown",
      "metadata": {
        "id": "x5QDxu75ew3v"
      },
      "source": [
        "### CSV File"
      ]
    },
    {
      "cell_type": "code",
      "execution_count": null,
      "metadata": {
        "id": "eLUVuMbL8L14"
      },
      "outputs": [],
      "source": [
        "# this is Inventory Option B (but you can use a different option if you'd like)\n",
        "\n",
        "\n",
        "products_url = \"https://raw.githubusercontent.com/prof-rossetti/intro-to-python/master/data/products.csv\"\n",
        "\n"
      ]
    },
    {
      "cell_type": "code",
      "execution_count": null,
      "metadata": {
        "id": "VacUfGCT8LvV"
      },
      "outputs": [],
      "source": [
        "\n"
      ]
    },
    {
      "cell_type": "code",
      "execution_count": null,
      "metadata": {
        "id": "lPM35TwBfIMU"
      },
      "outputs": [],
      "source": []
    },
    {
      "cell_type": "code",
      "execution_count": null,
      "metadata": {
        "id": "hS3Z0JLcfIJ6"
      },
      "outputs": [],
      "source": []
    },
    {
      "cell_type": "markdown",
      "metadata": {
        "id": "5FD_Po7wfI97"
      },
      "source": [
        "### Spreadsheet"
      ]
    },
    {
      "cell_type": "code",
      "execution_count": null,
      "metadata": {
        "id": "PvdpuRgMfIGg"
      },
      "outputs": [],
      "source": [
        "# this is Inventory Option C (but you can use a different option if you'd like)\n",
        "\n",
        "# see: https://docs.google.com/spreadsheets/d/1ItN7Cc2Yn4K90cMIsxi2P045Gzw0y2JHB_EkV4mXXpI/edit?usp=sharing\n",
        "DOCUMENT_ID = \"1ItN7Cc2Yn4K90cMIsxi2P045Gzw0y2JHB_EkV4mXXpI\" # public access database\n",
        "\n",
        "SHEET_NAME = \"products-default\"\n",
        "#SHEET_NAME = \"products-custom\" # if using barcode scanner, use this sheet, and feel free to add your own products\n",
        "\n"
      ]
    },
    {
      "cell_type": "code",
      "execution_count": null,
      "metadata": {
        "id": "4sU7juQSfIEA"
      },
      "outputs": [],
      "source": []
    },
    {
      "cell_type": "code",
      "execution_count": null,
      "metadata": {
        "id": "w1s6KGsBi3Pj"
      },
      "outputs": [],
      "source": []
    },
    {
      "cell_type": "code",
      "execution_count": null,
      "metadata": {
        "id": "-6qn8Puvi4KU"
      },
      "outputs": [],
      "source": []
    }
  ],
  "metadata": {
    "colab": {
      "provenance": []
    },
    "kernelspec": {
      "display_name": "Python 3",
      "name": "python3"
    },
    "language_info": {
      "name": "python"
    }
  },
  "nbformat": 4,
  "nbformat_minor": 0
}