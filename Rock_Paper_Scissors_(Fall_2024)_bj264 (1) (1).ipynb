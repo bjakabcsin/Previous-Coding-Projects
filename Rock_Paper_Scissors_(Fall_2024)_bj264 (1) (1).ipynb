{
  "nbformat": 4,
  "nbformat_minor": 0,
  "metadata": {
    "colab": {
      "provenance": [],
      "collapsed_sections": [
        "aaKY-opmT1X-"
      ]
    },
    "kernelspec": {
      "name": "python3",
      "display_name": "Python 3"
    },
    "language_info": {
      "name": "python"
    }
  },
  "cells": [
    {
      "cell_type": "markdown",
      "source": [
        "# \"Rock, Paper, Scissors\" Game\n"
      ],
      "metadata": {
        "id": "kWD8aWhLRb3s"
      }
    },
    {
      "cell_type": "markdown",
      "source": [
        "Develop a Python application which will allow a human user to play a game of Rock-Paper-Scissors against a computer opponent. The game's functionality should adhere to the \"Requirements\" section below.\n",
        "\n",
        "For this assignment specifically, all game code should exist in a single cell in the \"Solution\" section."
      ],
      "metadata": {
        "id": "4Srdlse6bI5q"
      }
    },
    {
      "cell_type": "markdown",
      "source": [
        "## Requirements\n",
        "\n"
      ],
      "metadata": {
        "id": "tnj6eer-RnND"
      }
    },
    {
      "cell_type": "markdown",
      "source": [
        "### Welcome Message"
      ],
      "metadata": {
        "id": "G0y8GBQnHnII"
      }
    },
    {
      "cell_type": "markdown",
      "source": [
        "In a text cell, the application should instruct the player to set their name as a [notebook secret](https://prof-rossetti.github.io/intro-software-dev-python-book/notes/dev-tools/google-colab/notebook-secrets.html#implementation) specifically called `PLAYER_NAME`.\n",
        "\n",
        "> FYI: this step has been done for you.\n",
        "\n",
        "Then the application should then read this value from the notebook secrets, and store the value in a Python variable specifically called `player_name`.\n",
        "\n",
        "The application should display a friendly message welcoming the user, such as \"Welcome Jon, to our Rock Paper Scissors Game!\" (for example if \"Jon\" was set as the player's name).\n",
        "\n",
        "> HINT: adapt the example code relating to `userdata`, provided at the bottom of the notebook secrets menu, but change the variable names.\n",
        "\n"
      ],
      "metadata": {
        "id": "ym6HBjgoHpIJ"
      }
    },
    {
      "cell_type": "markdown",
      "source": [
        "### Processing User Inputs\n"
      ],
      "metadata": {
        "id": "6FOgQKiFRnQJ"
      }
    },
    {
      "cell_type": "markdown",
      "source": [
        "\n",
        "The application should prompt the user to input, or otherwise select, an option (i.e. \"rock\", \"paper\", or \"scissors\"). It should store the user's selection in a variable for later reference.\n",
        "\n",
        "> HINT: use the [`input` function](https://prof-rossetti.github.io/intro-software-dev-python-book/notes/python-lang/overview.html#the-input-function) to capture user inputs.\n"
      ],
      "metadata": {
        "id": "vddQO9rNTs9L"
      }
    },
    {
      "cell_type": "markdown",
      "source": [
        "### Validating User Inputs\n"
      ],
      "metadata": {
        "id": "aaKY-opmT1X-"
      }
    },
    {
      "cell_type": "markdown",
      "source": [
        "\n",
        "\n",
        "The application should compare the user's selection against the list of valid options (i.e. \"rock\", \"paper\", and \"scissors\") to determine whether the user has selected a valid option, and should only proceed if the selection is valid.\n",
        "\n",
        "**Case Normalization**:\n",
        "\n",
        "The program should be able to handle various capitalizations of the valid options (i.e. \"ROCK\", \"Rock\", \"rock\", \"RoCk\", etc. are all valid).\n",
        "\n",
        "> HINT: use a [string case manipulation method](https://prof-rossetti.github.io/intro-software-dev-python-book/notes/python-lang/basic-datatypes/strings.html#case-manipulation) on the original user input to simplify your conditional logic.\n",
        "\n",
        "**Graceful Failure**:\n",
        "\n",
        "If the selection is invalid, the program should fail gracefully by displaying a friendly message to the user, and preventing further program execution.\n",
        "\n",
        "The program should not try to further process an invalid input, as it may lead to runtime errors.\n",
        "\n",
        "**Validation Loop**:\n",
        "\n",
        "If the selection is invalid, in addition to displaying a friendly message, it would be nice for the program to continue to prompt the user to try again and provide another input, until the user inputs a valid selection.\n",
        "\n",
        "> HINT: use a [`while` loop](https://prof-rossetti.github.io/intro-software-dev-python-book/notes/python-lang/control-flow/while-loops.html).\n"
      ],
      "metadata": {
        "id": "JNMU2msRRnS8"
      }
    },
    {
      "cell_type": "markdown",
      "source": [
        "### Simulating Computer Selection\n"
      ],
      "metadata": {
        "id": "dcUV0BzvTmpY"
      }
    },
    {
      "cell_type": "markdown",
      "source": [
        "\n",
        "\n",
        "The application should select one of the options (i.e. \"rock\", \"paper\", or \"scissors\") at random, and assign that as the computer player's choice.\n",
        "\n",
        "> HINT: use the `choice` function provided by the [`random` module](https://prof-rossetti.github.io/intro-software-dev-python-book/notes/python-modules/random.html).\n",
        "\n",
        "> HINT: ensure the valid choices are stored in a [list datatype](https://prof-rossetti.github.io/intro-software-dev-python-book/notes/python-lang/container-datatypes/lists.html), and then pass that list to the random choice function.\n"
      ],
      "metadata": {
        "id": "UJPuIG1BTnCM"
      }
    },
    {
      "cell_type": "markdown",
      "source": [
        "### Determining the Winner\n"
      ],
      "metadata": {
        "id": "Yq76aqerS-K7"
      }
    },
    {
      "cell_type": "markdown",
      "source": [
        "\n",
        "\n",
        "The application should compare the user's selection to the computer player's selection, and determine which is the winner. The following logic should govern that determination:\n",
        "\n",
        "  1. Rock beats Scissors\n",
        "  2. Paper beats Rock\n",
        "  3. Scissors beats Paper\n",
        "  4. Rock vs Rock, Paper vs Paper, and Scissors vs Scissors each results in a \"tie\"\n",
        "\n",
        "> HINT: use one or more [`if` statements](https://prof-rossetti.github.io/intro-software-dev-python-book/notes/python-lang/control-flow/conditional-logic.html) (recommended approach for beginners). Two potential alternative options would be to either use a nested if statement, or an if statement with compound expressions utilizing the `and` operator.\n",
        "\n",
        "> FIY: alternatively, it may be possible to use other pre-configured representations of the winners, for example using a nested [dictionary](https://prof-rossetti.github.io/intro-software-dev-python-book/notes/python-lang/container-datatypes/dictionaries.html) containing all possible outcomes.\n",
        "\n"
      ],
      "metadata": {
        "id": "lzvQeH2OS-y-"
      }
    },
    {
      "cell_type": "markdown",
      "source": [
        "### Displaying Results\n"
      ],
      "metadata": {
        "id": "vrAcJg4KRnVr"
      }
    },
    {
      "cell_type": "markdown",
      "source": [
        "\n",
        "After determining the winner, the application should display the results to the user. Desired information outputs (from start to finish) should include at least the following:\n",
        "\n",
        "  + A friendly welcome message, including the player's name (e.g. \"Player One\").\n",
        "  + The user's selected option\n",
        "  + The computer's selected option\n",
        "  + Whether the user or the computer was the winner\n",
        "  + A friendly farewell message\n",
        "\n",
        "Example desired output after one round of game-play:\n",
        "\n",
        "```\n",
        "Welcome 'Player One' to my Rock-Paper-Scissors Game!\n",
        "---------\n",
        "Please choose an option ('rock', 'paper', or 'scissors'): rock\n",
        "---------\n",
        "User choice: 'rock'\n",
        "---------\n",
        "Computer choice: 'scissors'\n",
        "---------\n",
        "You won! Thanks for playing.\n",
        "```\n"
      ],
      "metadata": {
        "id": "MOKoZt0oRnYe"
      }
    },
    {
      "cell_type": "markdown",
      "source": [
        "## Evaluation\n"
      ],
      "metadata": {
        "id": "GWj6HNQQSzZA"
      }
    },
    {
      "cell_type": "markdown",
      "source": [
        "Submissions will be evaluated according to the \"Requirements\" section below, as represented by the following rubric:\n",
        "\n",
        "Category | Requirement | Weight\n",
        "--- | --- | ---\n",
        "Info Inputs | Prompts the user to input their player name via notebook secrets, and reads the value from notebook secrets. | 10%\n",
        "Info Inputs | Prompts the user to input / select a choice from one of \"rock\", \"paper\", or \"scissors\". | 10%\n",
        "Validations | Handles user inputs of various capitalization (i.e. recognizes \"rock\", \"Rock\", \"ROCK\", \"RoCk\", etc. as valid inputs). | 10%\n",
        "Validations | Fails gracefully if encountering an invalid user input (i.e. program does not crash or malfunction if user provides an invalid input, like \"OOPS\"). Avoids a red / crashed cell. | 10%\n",
        "Validations | Implements a validation loop that continuously asks the user to try again and input a selection until they input a valid option. | 10%\n",
        "Simulation | Generates a valid choice at random for the computer player. | 10%\n",
        "Calculations | Displays accurate information about which player is the winner. | 15%\n",
        "Info Outputs | Presents all desired information outputs to the user, ideally in a clear way with clean formatting. | 15%\n",
        "\n",
        "> FYI: this only adds up to 90%, however there is an opportunity to earn up to a 110% by tackling the further exploration challenges (see \"Game Loop Bonus\" below).\n",
        "\n",
        "This rubric is tentative, and may be subject to slight adjustments during the grading process.\n",
        "\n",
        "If experiencing execution error(s) while evaluating the application's required functionality, evaluators are advised to reduce the project's grade by between 4% and 25%, depending on the circumstances and severity of the error(s)."
      ],
      "metadata": {
        "id": "ME5s2Ek6S1Dd"
      }
    },
    {
      "cell_type": "markdown",
      "source": [
        "### Further Exploration (Game Loop Bonus)\n"
      ],
      "metadata": {
        "id": "tX0h_zXcrBBn"
      }
    },
    {
      "cell_type": "markdown",
      "source": [
        "\n",
        "**Play Again** (+10%):\n",
        "\n",
        "Implement a game loop that asks the user whether they'd like to play again. If they say \"yes\", play the game again, otherwise stop. The user should be able to play as many games as they want.\n",
        "\n",
        "> HINT: use a [`while` loop](https://prof-rossetti.github.io/intro-software-dev-python-book/notes/python-lang/control-flow/while-loops.html).\n",
        "\n",
        "**Win Percentage** (+10%):\n",
        "\n",
        "Keep track of how many games have been played, and how many games have been won, and once the user elects to stop playing, display their win percentage.\n",
        "\n",
        "> FYI: win percentage can be calculated as the number of wins divided by the number of total games, or it can be calculated as the number of wins divided by the number of non-tie games.\n",
        "\n",
        "> HINT: use a counter approach.\n",
        "\n",
        "\n"
      ],
      "metadata": {
        "id": "8JGlwWwEUIeK"
      }
    },
    {
      "cell_type": "markdown",
      "source": [
        "## Solution\n",
        "\n"
      ],
      "metadata": {
        "id": "X5X7eG8qTGWG"
      }
    },
    {
      "cell_type": "markdown",
      "source": [
        "Instructions to User:\n",
        "\n",
        "  1. First, set your username as a notebook secret called `PLAYER_NAME`, using the Colab notebook secrets menu in the left sidebar.\n",
        "\n",
        "  2. Then run the cell below to play the game."
      ],
      "metadata": {
        "id": "jAVKPyokIGln"
      }
    },
    {
      "cell_type": "code",
      "source": [
        "# NOTE: ALL GAME CODE SHOULD GO IN THIS SINGLE CELL!\n",
        "\n",
        "from google.colab import userdata\n",
        "\n",
        "player_name = userdata.get('PLAYER_NAME')\n",
        "\n",
        "win_counter = 0\n",
        "loss_counter = 0\n",
        "\n",
        "import random\n",
        "\n",
        "options = [\"rock\", \"paper\", \"scissors\"]\n",
        "\n",
        "print(\"Welcome\", player_name, \", to our Rock, Paper, Scissors Game!\")\n",
        "print(\"-----------------\")\n",
        "\n",
        "selection = input(\"Please select rock, paper, or scissors: \")\n",
        "\n",
        "selection = selection.lower()\n",
        "\n",
        "if selection not in [\"rock\", \"paper\", \"scissors\"]:\n",
        "    print(\"------------------\")\n",
        "    print(\"Please select a vaild input (rock, paper or scissors)\")\n",
        "\n",
        "while selection not in [\"rock\", \"paper\", \"scissors\"]:\n",
        "    print(\"-----------------\")\n",
        "    selection = input(\"Please select rock, paper, or scissors: \")\n",
        "    selection = selection.lower()\n",
        "\n",
        "print(\"-----------------\")\n",
        "print(\"Your selection: \", selection)\n",
        "print(\"-----------------\")\n",
        "\n",
        "pick = random.choice(options)\n",
        "\n",
        "print(\"Computer's pick: \", pick)\n",
        "print(\"-----------------\")\n",
        "\n",
        "if selection == \"rock\" and pick == \"rock\":\n",
        "    print(\"Tie! Thanks for playing!\")\n",
        "\n",
        "elif selection == \"rock\" and pick == \"paper\":\n",
        "    print(\"Computer wins! Thanks for playing!\")\n",
        "    loss_counter = loss_counter + 1\n",
        "\n",
        "elif selection == \"rock\" and pick == \"scissors\":\n",
        "    print(\"You win! Thanks for playing!\")\n",
        "    win_counter = win_counter + 1\n",
        "\n",
        "elif selection == \"paper\" and pick == \"rock\":\n",
        "    print(\"You win! Thanks for playing!\")\n",
        "    win_counter = win_counter + 1\n",
        "\n",
        "elif selection == \"paper\" and pick == \"paper\":\n",
        "    print(\"Tie! Thanks for playing!\")\n",
        "\n",
        "elif selection == \"paper\" and pick == \"scissors\":\n",
        "    print(\"Computer wins! Thanks for playing!\")\n",
        "    loss_counter = win_counter + 1\n",
        "\n",
        "elif selection == \"scissors\" and pick == \"rock\":\n",
        "    print(\"Computer wins! Thanks for playing!\")\n",
        "    loss_counter = loss_counter + 1\n",
        "\n",
        "elif selection == \"scissors\" and pick == \"paper\":\n",
        "    print(\"You win! Thanks for playing!\")\n",
        "    win_counter = win_counter + 1\n",
        "\n",
        "else:\n",
        "    print(\"Tie! Thanks for playing!\")\n",
        "\n",
        "print(\"----------\")\n",
        "play_again = input(\"Would you like to play again? (Yes/No)\")\n",
        "\n",
        "play_again = play_again.lower()\n",
        "\n",
        "while play_again not in [\"no\",\"yes\"]:\n",
        "    print(\"------------------\")\n",
        "    print(\"Please select a vaild input (yes, no)\")\n",
        "    print(\"-----------------\")\n",
        "    play_again = input(\"Would you like to play again? (yes/no) \")\n",
        "    play_again = play_again.lower()\n",
        "\n",
        "while play_again == \"yes\":\n",
        "    print(\"-----------------\")\n",
        "    selection = input(\"Please select rock, paper, or scissors: \")\n",
        "\n",
        "    selection = selection.lower()\n",
        "\n",
        "    if selection not in [\"rock\", \"paper\", \"scissors\"]:\n",
        "        print(\"-----------------\")\n",
        "        print(\"Please select a vaild input (rock, paper or scissors)\")\n",
        "\n",
        "    while selection not in [\"rock\", \"paper\", \"scissors\"]:\n",
        "        print(\"-----------------\")\n",
        "        selection = input(\"Please select rock, paper, or scissors: \")\n",
        "        selection = selection.lower()\n",
        "\n",
        "    print(\"-----------------\")\n",
        "    print(\"Your selection: \", selection)\n",
        "    print(\"-----------------\")\n",
        "\n",
        "    pick = random.choice(options)\n",
        "\n",
        "    print(\"Computer's pick: \", pick)\n",
        "    print(\"-----------------\")\n",
        "\n",
        "    if selection == \"rock\" and pick == \"rock\":\n",
        "        print(\"Tie! Thanks for playing!\")\n",
        "\n",
        "    elif selection == \"rock\" and pick == \"paper\":\n",
        "        print(\"Computer wins! Thanks for playing!\")\n",
        "        loss_counter = loss_counter + 1\n",
        "\n",
        "    elif selection == \"rock\" and pick == \"scissors\":\n",
        "        print(\"You win! Thanks for playing!\")\n",
        "        win_counter = win_counter + 1\n",
        "\n",
        "    elif selection == \"paper\" and pick == \"rock\":\n",
        "        print(\"You win! Thanks for playing!\")\n",
        "        win_counter = win_counter + 1\n",
        "\n",
        "    elif selection == \"paper\" and pick == \"paper\":\n",
        "        print(\"Tie! Thanks for playing!\")\n",
        "\n",
        "    elif selection == \"paper\" and pick == \"scissors\":\n",
        "        print(\"Computer wins! Thanks for playing!\")\n",
        "        loss_counter = loss_counter + 1\n",
        "\n",
        "    elif selection == \"scissors\" and pick == \"rock\":\n",
        "        print(\"Computer wins! Thanks for playing!\")\n",
        "        loss_counter = loss_counter + 1\n",
        "\n",
        "    elif selection == \"scissors\" and pick == \"paper\":\n",
        "        print(\"You win! Thanks for playing!\")\n",
        "        win_counter = win_counter + 1\n",
        "\n",
        "    else:\n",
        "        print(\"Tie! Thanks for playing!\")\n",
        "\n",
        "    print(\"--------\")\n",
        "    play_again = input(\"Would you like to play again? (Yes/No)\")\n",
        "\n",
        "    play_again = play_again.lower()\n",
        "\n",
        "win_rate = win_counter / (loss_counter + win_counter)\n",
        "\n",
        "print(\"-----------\")\n",
        "print(\"Your win rate is: \",win_rate)"
      ],
      "metadata": {
        "id": "L26qgTqHztqr",
        "colab": {
          "base_uri": "https://localhost:8080/"
        },
        "outputId": "6e87fc01-527c-465f-d4d9-11224259915f"
      },
      "execution_count": 2,
      "outputs": [
        {
          "output_type": "stream",
          "name": "stdout",
          "text": [
            "Welcome Ben J , to our Rock, Paper, Scissors Game!\n",
            "-----------------\n",
            "Please select rock, paper, or scissors: rock\n",
            "-----------------\n",
            "Your selection:  rock\n",
            "-----------------\n",
            "Computer's pick:  paper\n",
            "-----------------\n",
            "Computer wins! Thanks for playing!\n",
            "----------\n",
            "Would you like to play again? (Yes/No)no\n",
            "-----------\n",
            "Your win rate is:  0.0\n"
          ]
        }
      ]
    },
    {
      "cell_type": "markdown",
      "source": [
        "## Scratch Work\n",
        "\n",
        "Feel free to use the section below for scratch work, which will not be evaluated.\n",
        "\n",
        "If there is any solution code make sure to include it in the \"Solution\" section above instead!"
      ],
      "metadata": {
        "id": "qnlJVq8VYEKI"
      }
    },
    {
      "cell_type": "code",
      "source": [
        "\n"
      ],
      "metadata": {
        "id": "ITePMxshYPQe"
      },
      "execution_count": null,
      "outputs": []
    },
    {
      "cell_type": "code",
      "source": [
        "\n"
      ],
      "metadata": {
        "id": "xLQG6Tl1YPvM"
      },
      "execution_count": null,
      "outputs": []
    },
    {
      "cell_type": "code",
      "source": [],
      "metadata": {
        "id": "BukHEhRwYPmt"
      },
      "execution_count": null,
      "outputs": []
    }
  ]
}